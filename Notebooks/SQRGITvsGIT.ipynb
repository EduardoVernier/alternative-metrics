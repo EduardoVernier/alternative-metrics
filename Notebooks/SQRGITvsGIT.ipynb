{
 "cells": [
  {
   "cell_type": "code",
   "execution_count": 89,
   "metadata": {},
   "outputs": [],
   "source": [
    "%matplotlib inline\n",
    "import pandas as pd\n",
    "import numpy as np\n",
    "import matplotlib.pyplot as plt\n",
    "import sys\n",
    "sys.path.append('..')\n",
    "\n",
    "from SpatialMetrics import AspectRatio\n",
    "from Util import Parser"
   ]
  },
  {
   "cell_type": "code",
   "execution_count": 90,
   "metadata": {},
   "outputs": [],
   "source": [
    "# Compute AR mean for all datasets in the sw_datasets.txt file\n",
    "with open('../sw_datasets.txt') as f:\n",
    "    datasets = f.readlines()\n",
    "# you may also want to remove whitespace characters like `\\n` at the end of each line\n",
    "datasets = [x.strip() for x in datasets] "
   ]
  },
  {
   "cell_type": "code",
   "execution_count": 91,
   "metadata": {},
   "outputs": [],
   "source": [
    "git_ar = []\n",
    "sgi_ar = []\n",
    "\n",
    "for dataset_id in datasets:\n",
    "    history_git = Parser.parse_rectangles(\"git\", dataset_id)\n",
    "    history_sgi = Parser.parse_rectangles(\"sqrgit\", dataset_id)\n",
    "    \n",
    "    all_ratios_git = np.array([])\n",
    "    all_ratios_sgi = np.array([])\n",
    "    \n",
    "    for revision in range(len(history_git) - 1):\n",
    "        ratios_git = AspectRatio.compute_aspect_ratios(history_git[revision])\n",
    "        all_ratios_git = np.append(all_ratios_git, ratios_git.values)\n",
    "\n",
    "        ratios_sgi = AspectRatio.compute_aspect_ratios(history_sgi[revision])\n",
    "        all_ratios_sgi = np.append(all_ratios_sgi, ratios_sgi.values)\n",
    "\n",
    "    git_ar.append(all_ratios_git.mean())\n",
    "    sgi_ar.append(all_ratios_sgi.mean())"
   ]
  },
  {
   "cell_type": "code",
   "execution_count": 92,
   "metadata": {},
   "outputs": [
    {
     "data": {
      "text/plain": [
       "[0.4886985889040904,\n",
       " 0.46244907324459128,\n",
       " 0.25133392887274802,\n",
       " 0.41127750908977045,\n",
       " 0.39011640076597065,\n",
       " 0.44877363410409188,\n",
       " 0.37649680693604837,\n",
       " 0.33187122311109246,\n",
       " 0.32036609694879492,\n",
       " 0.34792432075079371,\n",
       " 0.43866780771838976,\n",
       " 0.32214665081001731,\n",
       " 0.36587455648104455,\n",
       " 0.29530420627756027,\n",
       " 0.45915057383598895,\n",
       " 0.41009257639222357,\n",
       " 0.37958906649171797,\n",
       " 0.37449718788476599,\n",
       " 0.36659872425060963,\n",
       " 0.47319282243004701,\n",
       " 0.35080829908764655,\n",
       " 0.50975943957629632,\n",
       " 0.25273704055701685,\n",
       " 0.51216823699095471,\n",
       " 0.2916498885275951,\n",
       " 0.39622150668701628,\n",
       " 0.37739429985505796,\n",
       " 0.3773934143410218]"
      ]
     },
     "execution_count": 92,
     "metadata": {},
     "output_type": "execute_result"
    }
   ],
   "source": [
    "git_ar"
   ]
  },
  {
   "cell_type": "code",
   "execution_count": 93,
   "metadata": {},
   "outputs": [
    {
     "data": {
      "text/plain": [
       "[0.56483717393814681,\n",
       " 0.45677620408181313,\n",
       " 0.28041795310730866,\n",
       " 0.40239909742150087,\n",
       " 0.27538424403174988,\n",
       " 0.45306349135000135,\n",
       " 0.41212537371556213,\n",
       " 0.34259180418883772,\n",
       " 0.36749102494733443,\n",
       " 0.4607514112857839,\n",
       " 0.41448595335475075,\n",
       " 0.28150396924601523,\n",
       " 0.38097600896017936,\n",
       " 0.26300149971016157,\n",
       " 0.45011791481082558,\n",
       " 0.47397348427558705,\n",
       " 0.37248222068612952,\n",
       " 0.3125037906293503,\n",
       " 0.29019625951281208,\n",
       " 0.44806017512532315,\n",
       " 0.30817761575561387,\n",
       " 0.47218279891761206,\n",
       " 0.21446242137193056,\n",
       " 0.46440217527840771,\n",
       " 0.27154195124310726,\n",
       " 0.3943908943467539,\n",
       " 0.32562638985643588,\n",
       " 0.2380592948095388]"
      ]
     },
     "execution_count": 93,
     "metadata": {},
     "output_type": "execute_result"
    }
   ],
   "source": [
    "sgi_ar"
   ]
  },
  {
   "cell_type": "code",
   "execution_count": 94,
   "metadata": {},
   "outputs": [],
   "source": [
    "index = np.arange(len(datasets))\n",
    "avg_git = sum(git_ar) / len(git_ar)\n",
    "avg_sgi = sum(sgi_ar) / len(sgi_ar)\n",
    "\n",
    "git_ar.append(avg_git)\n",
    "sgi_ar.append(avg_sgi)\n",
    "index = np.append(index, 30)\n",
    "datasets.append('AVERAGE')"
   ]
  },
  {
   "cell_type": "code",
   "execution_count": 107,
   "metadata": {},
   "outputs": [
    {
     "data": {
      "image/png": "[encoded data removed]",
      "text/plain": [
       "<matplotlib.figure.Figure at 0x7fefd3583ba8>"
      ]
     },
     "metadata": {},
     "output_type": "display_data"
    }
   ],
   "source": [
    "\n",
    "\n",
    "fig, ax = plt.subplots(figsize=(9, 3))\n",
    "bar_width = 0.3\n",
    "rects_git = plt.bar(index, git_ar, bar_width,\n",
    "                 color='b',\n",
    "                 alpha=.7,\n",
    "                 edgecolor = \"none\",\n",
    "                 label='GIT')\n",
    "\n",
    "rects_sgi = plt.bar(index + bar_width, sgi_ar, bar_width,\n",
    "                 color='r',\n",
    "                 alpha=.7,\n",
    "                 edgecolor = \"none\",\n",
    "                 label='SGI')\n",
    "\n",
    "\n",
    "# rects_git = plt.bar([30], [avg_git], bar_width,\n",
    "#                  color='b',\n",
    "#                  alpha=1,\n",
    "#                  edgecolor = \"none\",\n",
    "#                  label='GIT')\n",
    "\n",
    "plt.ylabel('Aspect Ratio')\n",
    "plt.xticks(index + bar_width / 2, datasets, rotation='vertical')\n",
    "plt.tick_params(\n",
    "    axis='x',          # changes apply to the x-axis\n",
    "    which='both',      # both major and minor ticks are affected\n",
    "    bottom=False,      # ticks along the bottom edge are off\n",
    "    top=False,         # ticks along the top edge are off\n",
    "    labelbottom=True) # labels along the bottom edge are off\n",
    "\n",
    "# ax.legend(loc='center left', bbox_to_anchor=(1, 0.5))\n",
    "plt.legend(bbox_to_anchor=(.892,0), loc=\"lower left\", borderaxespad=0)\n",
    "plt.tight_layout()\n",
    "\n",
    "plt.show()\n",
    "fig.savefig('git-vs-sqrgit.png', dpi=300, bbox_inches=\"tight\")"
   ]
  },
  {
   "cell_type": "code",
   "execution_count": 109,
   "metadata": {},
   "outputs": [
    {
     "name": "stdout",
     "output_type": "stream",
     "text": [
      "AVG GIT =  0.385091210033\n",
      "AVG SGI =  0.37114223557\n"
     ]
    }
   ],
   "source": [
    "print(\"AVG GIT = \", avg_git)\n",
    "print(\"AVG SGI = \", avg_sgi)"
   ]
  }
 ],
 "metadata": {
  "kernelspec": {
   "display_name": "Python 2",
   "language": "python",
   "name": "python2"
  },
  "language_info": {
   "codemirror_mode": {
    "name": "ipython",
    "version": 3
   },
   "file_extension": ".py",
   "mimetype": "text/x-python",
   "name": "python",
   "nbconvert_exporter": "python",
   "pygments_lexer": "ipython3",
   "version": "3.5.2"
  }
 },
 "nbformat": 4,
 "nbformat_minor": 1
}
